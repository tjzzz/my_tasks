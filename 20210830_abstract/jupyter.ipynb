{
 "cells": [
  {
   "cell_type": "code",
   "execution_count": 2,
   "metadata": {},
   "outputs": [],
   "source": [
    "def clean_CLC():\n",
    "    \n",
    "    ff = open('CLC_DATA.clean', 'w')\n",
    "    group_list = []\n",
    "    for line in open('CLC_data_raw'):\n",
    "        items = line.strip().split(' ')\n",
    "        if len(items) < 2:\n",
    "            continue\n",
    "        clc = items[1].replace('[', '').replace(']', '').replace('{', '').replace('}', '')\n",
    "        clc = clc.replace(' ', '')\n",
    "        ff.write(clc + '\\n')\n",
    "        group_list.append(clc)\n",
    "        #print(clc)\n",
    "    ff.close()\n",
    "    \n",
    "    return group_list\n",
    "\n",
    "group_list = clean_CLC()"
   ]
  },
  {
   "cell_type": "code",
   "execution_count": 37,
   "metadata": {},
   "outputs": [
    {
     "name": "stdout",
     "output_type": "stream",
     "text": [
      "YE=2017 and AF=清华大学 and CLC=%'A1'\n"
     ]
    }
   ],
   "source": [
    "year='2017'\n",
    "col='清华大学'\n",
    "group='A1'\n",
    "cmd = 'YE=' + year + ' and AF=' + col + \" and CLC=%'\" + group +\"'\"\n",
    "print(cmd)\n",
    "driver.find_element_by_xpath('//*[@id=\"expertvalue\"]').clear()\n",
    "driver.find_element_by_xpath('//*[@id=\"expertvalue\"]').send_keys(cmd)"
   ]
  },
  {
   "cell_type": "code",
   "execution_count": 38,
   "metadata": {},
   "outputs": [],
   "source": [
    "driver.find_element_by_id(\"btnSearch\").click()    # 点击检索"
   ]
  },
  {
   "cell_type": "code",
   "execution_count": 42,
   "metadata": {},
   "outputs": [],
   "source": [
    "save_page(driver, 'test2')"
   ]
  },
  {
   "cell_type": "code",
   "execution_count": 23,
   "metadata": {},
   "outputs": [],
   "source": [
    "#js = 'document.getElementsByClassName(\"buttOther\").click'\n",
    "#res = driver.execute_script(js)"
   ]
  },
  {
   "cell_type": "code",
   "execution_count": 24,
   "metadata": {},
   "outputs": [],
   "source": []
  },
  {
   "cell_type": "code",
   "execution_count": 39,
   "metadata": {},
   "outputs": [],
   "source": [
    "iframe = driver.find_element_by_id(\"iframeResult\")\n",
    "driver.switch_to.frame(iframe)  #"
   ]
  },
  {
   "cell_type": "code",
   "execution_count": 26,
   "metadata": {},
   "outputs": [
    {
     "data": {
      "text/plain": [
       "<selenium.webdriver.remote.webelement.WebElement (session=\"86d22d218f5be05a14771c8cf266b31c\", element=\"1b382746-413c-4603-b8ea-e4e004a98ebf\")>"
      ]
     },
     "execution_count": 26,
     "metadata": {},
     "output_type": "execute_result"
    }
   ],
   "source": [
    "iframe"
   ]
  },
  {
   "cell_type": "code",
   "execution_count": 16,
   "metadata": {},
   "outputs": [],
   "source": [
    "soup = bs4.BeautifulSoup(driver.page_source, \"html.parser\")\n"
   ]
  },
  {
   "cell_type": "code",
   "execution_count": 34,
   "metadata": {},
   "outputs": [],
   "source": [
    "iframe = driver.find_element_by_id(\"iframeResult\")\n",
    "driver.switch_to.frame(iframe)"
   ]
  },
  {
   "cell_type": "code",
   "execution_count": 33,
   "metadata": {},
   "outputs": [],
   "source": [
    "iframe = driver.find_element_by_id(\"iframeResult\")"
   ]
  },
  {
   "cell_type": "code",
   "execution_count": 36,
   "metadata": {},
   "outputs": [],
   "source": [
    "driver.switch_to.default_content()"
   ]
  },
  {
   "cell_type": "code",
   "execution_count": 40,
   "metadata": {},
   "outputs": [],
   "source": [
    "def parser_iframe_result(driver):\n",
    "    \"\"\"\n",
    "    \"\"\"\n",
    "    soup = bs4.BeautifulSoup(driver.page_source, \"html.parser\")        # 获取页面内容\n",
    "    tmp = soup.find_all(attrs={\"class\":\"pagerTitleCell\"})\n",
    "    zz = tmp[0]\n",
    "    res_num = zz.get_text().replace('\\xa0', '').replace('找到','').replace('条结果', '')\n",
    "    return res_num\n"
   ]
  },
  {
   "cell_type": "code",
   "execution_count": 45,
   "metadata": {},
   "outputs": [
    {
     "name": "stdout",
     "output_type": "stream",
     "text": [
      "广西大学\n"
     ]
    },
    {
     "ename": "NameError",
     "evalue": "name 'WebDriverWait' is not defined",
     "output_type": "error",
     "traceback": [
      "\u001b[0;31m---------------------------------------------------------------------------\u001b[0m",
      "\u001b[0;31mNameError\u001b[0m                                 Traceback (most recent call last)",
      "\u001b[0;32m<ipython-input-45-d4ecb4257df5>\u001b[0m in \u001b[0;36m<module>\u001b[0;34m\u001b[0m\n\u001b[1;32m     11\u001b[0m             \u001b[0mdriver\u001b[0m\u001b[0;34m.\u001b[0m\u001b[0mfind_element_by_id\u001b[0m\u001b[0;34m(\u001b[0m\u001b[0;34m\"btnSearch\"\u001b[0m\u001b[0;34m)\u001b[0m\u001b[0;34m.\u001b[0m\u001b[0mclick\u001b[0m\u001b[0;34m(\u001b[0m\u001b[0;34m)\u001b[0m    \u001b[0;31m# 点击检索\u001b[0m\u001b[0;34m\u001b[0m\u001b[0;34m\u001b[0m\u001b[0m\n\u001b[1;32m     12\u001b[0m \u001b[0;34m\u001b[0m\u001b[0m\n\u001b[0;32m---> 13\u001b[0;31m             \u001b[0mwait\u001b[0m \u001b[0;34m=\u001b[0m \u001b[0mWebDriverWait\u001b[0m\u001b[0;34m(\u001b[0m\u001b[0mdriver\u001b[0m\u001b[0;34m,\u001b[0m \u001b[0;36m20\u001b[0m\u001b[0;34m)\u001b[0m \u001b[0;31m#等待的最大时间20s\u001b[0m\u001b[0;34m\u001b[0m\u001b[0;34m\u001b[0m\u001b[0m\n\u001b[0m\u001b[1;32m     14\u001b[0m             \u001b[0mwait\u001b[0m\u001b[0;34m.\u001b[0m\u001b[0muntil\u001b[0m\u001b[0;34m(\u001b[0m\u001b[0mEC\u001b[0m\u001b[0;34m.\u001b[0m\u001b[0mpresence_of_element_located\u001b[0m\u001b[0;34m(\u001b[0m\u001b[0;34m(\u001b[0m\u001b[0mBy\u001b[0m\u001b[0;34m.\u001b[0m\u001b[0mID\u001b[0m\u001b[0;34m,\u001b[0m \u001b[0;34m\"iframeResult\"\u001b[0m\u001b[0;34m)\u001b[0m\u001b[0;34m)\u001b[0m\u001b[0;34m)\u001b[0m\u001b[0;34m\u001b[0m\u001b[0;34m\u001b[0m\u001b[0m\n\u001b[1;32m     15\u001b[0m \u001b[0;34m\u001b[0m\u001b[0m\n",
      "\u001b[0;31mNameError\u001b[0m: name 'WebDriverWait' is not defined"
     ]
    }
   ],
   "source": [
    "for year in ['2016']:\n",
    "    for col in col_list:\n",
    "        print(col)\n",
    "        ff = open('out/out_'+ year + '_' + col + '.txt', 'w')\n",
    "        for group in group_list:\n",
    "            cmd = 'YE=' + year + ' and AF=' + col + \" and CLC=%'\" + group +\"'\"\n",
    "\n",
    "            driver.find_element_by_xpath('//*[@id=\"expertvalue\"]').clear()\n",
    "            driver.find_element_by_xpath('//*[@id=\"expertvalue\"]').send_keys(cmd)\n",
    "\n",
    "            driver.find_element_by_id(\"btnSearch\").click()    # 点击检索\n",
    "\n",
    "            wait = WebDriverWait(driver, 20) #等待的最大时间20s\n",
    "            wait.until(EC.presence_of_element_located((By.ID, \"iframeResult\")))\n",
    "\n",
    "            iframe = driver.find_element_by_id(\"iframeResult\")\n",
    "            driver.switch_to.frame(iframe)  # 获取检索条数\n",
    "            #save_page(driver, 'test2')\n",
    "            os.system('sleep 1')\n",
    "\n",
    "            res_num = parser_iframe_result(driver)\n",
    "            \n",
    "            driver.switch_to.default_content()\n",
    "\n",
    "            delay = random.randint(1, 3)\n",
    "            os.system('sleep ' + str(delay))\n",
    "            out = '\\t'.join(map(str, [year, col, group, res_num]))\n",
    "            ff.write(out + '\\n')\n",
    "        ff.close()"
   ]
  },
  {
   "cell_type": "code",
   "execution_count": 44,
   "metadata": {},
   "outputs": [],
   "source": [
    "driver.switch_to.default_content()\n",
    "\n",
    "## 回到原来的页面"
   ]
  },
  {
   "cell_type": "code",
   "execution_count": 7,
   "metadata": {},
   "outputs": [
    {
     "ename": "IndexError",
     "evalue": "list index out of range",
     "output_type": "error",
     "traceback": [
      "\u001b[0;31m---------------------------------------------------------------------------\u001b[0m",
      "\u001b[0;31mIndexError\u001b[0m                                Traceback (most recent call last)",
      "\u001b[0;32m<ipython-input-7-e29523c58aba>\u001b[0m in \u001b[0;36m<module>\u001b[0;34m\u001b[0m\n\u001b[0;32m----> 1\u001b[0;31m \u001b[0msoup\u001b[0m\u001b[0;34m.\u001b[0m\u001b[0mfind_all\u001b[0m\u001b[0;34m(\u001b[0m\u001b[0mattrs\u001b[0m\u001b[0;34m=\u001b[0m\u001b[0;34m{\u001b[0m\u001b[0;34m\"class\"\u001b[0m\u001b[0;34m:\u001b[0m\u001b[0;34m\"pagerTitleCell\"\u001b[0m\u001b[0;34m}\u001b[0m\u001b[0;34m)\u001b[0m\u001b[0;34m[\u001b[0m\u001b[0;36m0\u001b[0m\u001b[0;34m]\u001b[0m\u001b[0;34m\u001b[0m\u001b[0;34m\u001b[0m\u001b[0m\n\u001b[0m",
      "\u001b[0;31mIndexError\u001b[0m: list index out of range"
     ]
    }
   ],
   "source": [
    "soup.find_all(attrs={\"class\":\"pagerTitleCell\"})[0]"
   ]
  },
  {
   "cell_type": "code",
   "execution_count": 55,
   "metadata": {},
   "outputs": [],
   "source": [
    "\n",
    "\n",
    "ff = open('res_2018_3.txt', 'w')\n",
    "for i in range(len(col_list)):\n",
    "    if i < 6:\n",
    "        continue\n",
    "    col1 = col_list[i]\n",
    "    for j in range(i+1,len(col_list)):\n",
    "        col2 = col_list[j]\n",
    "        res = cube.search_num(col1, col2, year)\n",
    "        tmp_res = '\\t'.join(map(str, [col1, col2, year, res]))\n",
    "        #print(tmp_res)\n",
    "        ff.write(tmp_res + '\\n')\n",
    "ff.close()\n",
    "\n",
    "driver.close()"
   ]
  },
  {
   "cell_type": "code",
   "execution_count": null,
   "metadata": {},
   "outputs": [],
   "source": [
    "//*[@id=\"J_ORDER\"]/tbody/tr[2]/td/table/tbody/tr/td[2]/div/div"
   ]
  },
  {
   "cell_type": "code",
   "execution_count": null,
   "metadata": {},
   "outputs": [],
   "source": []
  },
  {
   "cell_type": "markdown",
   "metadata": {},
   "source": [
    "# 2021-08-29  抓取wos的摘要"
   ]
  },
  {
   "cell_type": "code",
   "execution_count": 2,
   "metadata": {},
   "outputs": [],
   "source": [
    "import os\n",
    "import sys\n",
    "import bs4\n",
    "import random\n",
    "import urllib\n",
    "import re\n",
    "import time\n",
    "from selenium import webdriver\n",
    "from selenium.webdriver.common.keys import Keys\n",
    "from selenium.webdriver.support.ui import WebDriverWait       #WebDriverWait注意大小写\n",
    "from selenium.webdriver.common.desired_capabilities import DesiredCapabilities\n",
    "from selenium.webdriver.support import expected_conditions as EC\n",
    "from selenium.webdriver.common.by import By\n",
    "\n"
   ]
  },
  {
   "cell_type": "code",
   "execution_count": 10,
   "metadata": {},
   "outputs": [],
   "source": [
    "\n",
    "url = 'http://apps.webofknowledge.com/WOS_GeneralSearch_input.do?product=WOS&search_mode=GeneralSearch&SID=7AEqvcVGon4oH91psNX&preferencesSaved='\n",
    "# driver.set_page_load_timeout(10)\n",
    "# driver.set_script_timeout(10) \n",
    "\n",
    "\n",
    "\n",
    "from selenium.webdriver.common.desired_capabilities import DesiredCapabilities\n",
    "from selenium.webdriver.support import expected_conditions as EC\n",
    "from selenium.webdriver.support.ui import WebDriverWait       #WebDriverWait注意大小写\n",
    "from selenium.webdriver.common.by import By\n",
    "\n",
    "\n",
    "capa = DesiredCapabilities.CHROME\n",
    "\n",
    "capa[\"pageLoadStrategy\"] = \"none\" #懒加载模式，不等待页面加载完毕\n",
    "\n",
    "driver = webdriver.Chrome('../chromedriver_092_4515', desired_capabilities=capa)\n",
    "\n",
    "\n",
    "driver.get(url)\n",
    "\n",
    "WebDriverWait(driver, 10).until(lambda x:x.find_element_by_xpath('//*[@id=\"searchCell2\"]/span[1]/button'))\n",
    "    \n",
    "driver.execute_script(\"window.stop();\") #停止当前页面加载，防止input框输入错误\n"
   ]
  },
  {
   "cell_type": "code",
   "execution_count": 74,
   "metadata": {},
   "outputs": [
    {
     "data": {
      "text/plain": [
       "<selenium.webdriver.remote.webelement.WebElement (session=\"a4f375e3e1a12df2506088e8c0b1f52e\", element=\"48cc9676-e576-4ca8-954d-615a82054ac3\")>"
      ]
     },
     "execution_count": 74,
     "metadata": {},
     "output_type": "execute_result"
    }
   ],
   "source": [
    "text"
   ]
  },
  {
   "cell_type": "code",
   "execution_count": 11,
   "metadata": {},
   "outputs": [],
   "source": [
    "col = \"Beijing Forestry University\"\n",
    "year='2008-2020'\n",
    "\n",
    "\n",
    "## 学校\n",
    "driver.find_element_by_xpath('//*[@id=\"value(input1)\"]').clear()\n",
    "driver.find_element_by_xpath('//*[@id=\"value(input1)\"]').send_keys(col)   \n",
    "## 机构扩展\n",
    "#driver.find_element_by_xpath('//*[@id=\"select2-select1-container\"]')  \n",
    "\n",
    "## 年份\n",
    "# driver.find_element_by_xpath('//*[@id=\"value(input2)\"]').clear()\n",
    "# driver.find_element_by_xpath('//*[@id=\"value(input2)\"]').send_keys(year)   \n",
    "\n",
    "## 检索\n",
    "driver.find_element_by_xpath('//*[@id=\"searchCell2\"]/span[1]/button').click()\n",
    "WebDriverWait(driver, 10).until(lambda x:x.find_element_by_xpath('//*[@id=\"exportTypeName\"]'))  # 总数\n",
    "driver.execute_script(\"window.stop();\") \n",
    "\n"
   ]
  },
  {
   "cell_type": "code",
   "execution_count": 7,
   "metadata": {},
   "outputs": [],
   "source": []
  },
  {
   "cell_type": "code",
   "execution_count": 7,
   "metadata": {},
   "outputs": [
    {
     "name": "stdout",
     "output_type": "stream",
     "text": [
      "Beijing Foreign Studies University 19 2\n"
     ]
    }
   ],
   "source": [
    "## 获取总页数\n",
    "import math\n",
    "total_num = driver.find_element_by_xpath('//*[@id=\"pageCount.top\"]').text\n",
    "#WebDriverWait(driver, 20).until(lambda x:x.find_element_by_xpath('//*[@id=\"exportTypeName\"]'))  # 总数\n",
    "#driver.execute_script(\"window.stop();\") \n",
    "\n",
    "total_num = int(total_num)\n",
    "\n",
    "page_num = math.ceil(total_num / 10)\n",
    "\n",
    "print(col, total_num, page_num)"
   ]
  },
  {
   "cell_type": "code",
   "execution_count": 16,
   "metadata": {},
   "outputs": [
    {
     "name": "stdout",
     "output_type": "stream",
     "text": [
      "Beijing Forestry University 1\n",
      "//*[@id=\"exportTypeName\"]\n"
     ]
    },
    {
     "ename": "NoSuchElementException",
     "evalue": "Message: no such element: Unable to locate element: {\"method\":\"xpath\",\"selector\":\"//*[@id=\"exportTypeName\"]\"}\n  (Session info: chrome=93.0.4577.63)\n",
     "output_type": "error",
     "traceback": [
      "\u001b[0;31m---------------------------------------------------------------------------\u001b[0m",
      "\u001b[0;31mNoSuchElementException\u001b[0m                    Traceback (most recent call last)",
      "\u001b[0;32m/var/folders/vq/t8mhsxs56ljdtj6whcvy9q9r0000gn/T/ipykernel_10820/77735681.py\u001b[0m in \u001b[0;36m<module>\u001b[0;34m\u001b[0m\n\u001b[1;32m     33\u001b[0m         \u001b[0mtime\u001b[0m\u001b[0;34m.\u001b[0m\u001b[0msleep\u001b[0m\u001b[0;34m(\u001b[0m\u001b[0;36m1\u001b[0m\u001b[0;34m)\u001b[0m\u001b[0;34m\u001b[0m\u001b[0;34m\u001b[0m\u001b[0m\n\u001b[1;32m     34\u001b[0m         \u001b[0;31m#try:\u001b[0m\u001b[0;34m\u001b[0m\u001b[0;34m\u001b[0m\u001b[0;34m\u001b[0m\u001b[0m\n\u001b[0;32m---> 35\u001b[0;31m         \u001b[0mdriver\u001b[0m\u001b[0;34m.\u001b[0m\u001b[0mfind_element_by_xpath\u001b[0m\u001b[0;34m(\u001b[0m\u001b[0mmm\u001b[0m\u001b[0;34m)\u001b[0m\u001b[0;34m.\u001b[0m\u001b[0mclick\u001b[0m\u001b[0;34m(\u001b[0m\u001b[0;34m)\u001b[0m\u001b[0;34m\u001b[0m\u001b[0;34m\u001b[0m\u001b[0m\n\u001b[0m\u001b[1;32m     36\u001b[0m         \u001b[0;31m#except:\u001b[0m\u001b[0;34m\u001b[0m\u001b[0;34m\u001b[0m\u001b[0;34m\u001b[0m\u001b[0m\n\u001b[1;32m     37\u001b[0m         \u001b[0;31m#    driver.execute_script(\"window.stop()\")\u001b[0m\u001b[0;34m\u001b[0m\u001b[0;34m\u001b[0m\u001b[0;34m\u001b[0m\u001b[0m\n",
      "\u001b[0;32m~/opt/miniconda3/lib/python3.8/site-packages/selenium/webdriver/remote/webdriver.py\u001b[0m in \u001b[0;36mfind_element_by_xpath\u001b[0;34m(self, xpath)\u001b[0m\n\u001b[1;32m    392\u001b[0m             \u001b[0melement\u001b[0m \u001b[0;34m=\u001b[0m \u001b[0mdriver\u001b[0m\u001b[0;34m.\u001b[0m\u001b[0mfind_element_by_xpath\u001b[0m\u001b[0;34m(\u001b[0m\u001b[0;34m'//div/td[1]'\u001b[0m\u001b[0;34m)\u001b[0m\u001b[0;34m\u001b[0m\u001b[0;34m\u001b[0m\u001b[0m\n\u001b[1;32m    393\u001b[0m         \"\"\"\n\u001b[0;32m--> 394\u001b[0;31m         \u001b[0;32mreturn\u001b[0m \u001b[0mself\u001b[0m\u001b[0;34m.\u001b[0m\u001b[0mfind_element\u001b[0m\u001b[0;34m(\u001b[0m\u001b[0mby\u001b[0m\u001b[0;34m=\u001b[0m\u001b[0mBy\u001b[0m\u001b[0;34m.\u001b[0m\u001b[0mXPATH\u001b[0m\u001b[0;34m,\u001b[0m \u001b[0mvalue\u001b[0m\u001b[0;34m=\u001b[0m\u001b[0mxpath\u001b[0m\u001b[0;34m)\u001b[0m\u001b[0;34m\u001b[0m\u001b[0;34m\u001b[0m\u001b[0m\n\u001b[0m\u001b[1;32m    395\u001b[0m \u001b[0;34m\u001b[0m\u001b[0m\n\u001b[1;32m    396\u001b[0m     \u001b[0;32mdef\u001b[0m \u001b[0mfind_elements_by_xpath\u001b[0m\u001b[0;34m(\u001b[0m\u001b[0mself\u001b[0m\u001b[0;34m,\u001b[0m \u001b[0mxpath\u001b[0m\u001b[0;34m)\u001b[0m\u001b[0;34m:\u001b[0m\u001b[0;34m\u001b[0m\u001b[0;34m\u001b[0m\u001b[0m\n",
      "\u001b[0;32m~/opt/miniconda3/lib/python3.8/site-packages/selenium/webdriver/remote/webdriver.py\u001b[0m in \u001b[0;36mfind_element\u001b[0;34m(self, by, value)\u001b[0m\n\u001b[1;32m    974\u001b[0m                 \u001b[0mby\u001b[0m \u001b[0;34m=\u001b[0m \u001b[0mBy\u001b[0m\u001b[0;34m.\u001b[0m\u001b[0mCSS_SELECTOR\u001b[0m\u001b[0;34m\u001b[0m\u001b[0;34m\u001b[0m\u001b[0m\n\u001b[1;32m    975\u001b[0m                 \u001b[0mvalue\u001b[0m \u001b[0;34m=\u001b[0m \u001b[0;34m'[name=\"%s\"]'\u001b[0m \u001b[0;34m%\u001b[0m \u001b[0mvalue\u001b[0m\u001b[0;34m\u001b[0m\u001b[0;34m\u001b[0m\u001b[0m\n\u001b[0;32m--> 976\u001b[0;31m         return self.execute(Command.FIND_ELEMENT, {\n\u001b[0m\u001b[1;32m    977\u001b[0m             \u001b[0;34m'using'\u001b[0m\u001b[0;34m:\u001b[0m \u001b[0mby\u001b[0m\u001b[0;34m,\u001b[0m\u001b[0;34m\u001b[0m\u001b[0;34m\u001b[0m\u001b[0m\n\u001b[1;32m    978\u001b[0m             'value': value})['value']\n",
      "\u001b[0;32m~/opt/miniconda3/lib/python3.8/site-packages/selenium/webdriver/remote/webdriver.py\u001b[0m in \u001b[0;36mexecute\u001b[0;34m(self, driver_command, params)\u001b[0m\n\u001b[1;32m    319\u001b[0m         \u001b[0mresponse\u001b[0m \u001b[0;34m=\u001b[0m \u001b[0mself\u001b[0m\u001b[0;34m.\u001b[0m\u001b[0mcommand_executor\u001b[0m\u001b[0;34m.\u001b[0m\u001b[0mexecute\u001b[0m\u001b[0;34m(\u001b[0m\u001b[0mdriver_command\u001b[0m\u001b[0;34m,\u001b[0m \u001b[0mparams\u001b[0m\u001b[0;34m)\u001b[0m\u001b[0;34m\u001b[0m\u001b[0;34m\u001b[0m\u001b[0m\n\u001b[1;32m    320\u001b[0m         \u001b[0;32mif\u001b[0m \u001b[0mresponse\u001b[0m\u001b[0;34m:\u001b[0m\u001b[0;34m\u001b[0m\u001b[0;34m\u001b[0m\u001b[0m\n\u001b[0;32m--> 321\u001b[0;31m             \u001b[0mself\u001b[0m\u001b[0;34m.\u001b[0m\u001b[0merror_handler\u001b[0m\u001b[0;34m.\u001b[0m\u001b[0mcheck_response\u001b[0m\u001b[0;34m(\u001b[0m\u001b[0mresponse\u001b[0m\u001b[0;34m)\u001b[0m\u001b[0;34m\u001b[0m\u001b[0;34m\u001b[0m\u001b[0m\n\u001b[0m\u001b[1;32m    322\u001b[0m             response['value'] = self._unwrap_value(\n\u001b[1;32m    323\u001b[0m                 response.get('value', None))\n",
      "\u001b[0;32m~/opt/miniconda3/lib/python3.8/site-packages/selenium/webdriver/remote/errorhandler.py\u001b[0m in \u001b[0;36mcheck_response\u001b[0;34m(self, response)\u001b[0m\n\u001b[1;32m    240\u001b[0m                 \u001b[0malert_text\u001b[0m \u001b[0;34m=\u001b[0m \u001b[0mvalue\u001b[0m\u001b[0;34m[\u001b[0m\u001b[0;34m'alert'\u001b[0m\u001b[0;34m]\u001b[0m\u001b[0;34m.\u001b[0m\u001b[0mget\u001b[0m\u001b[0;34m(\u001b[0m\u001b[0;34m'text'\u001b[0m\u001b[0;34m)\u001b[0m\u001b[0;34m\u001b[0m\u001b[0;34m\u001b[0m\u001b[0m\n\u001b[1;32m    241\u001b[0m             \u001b[0;32mraise\u001b[0m \u001b[0mexception_class\u001b[0m\u001b[0;34m(\u001b[0m\u001b[0mmessage\u001b[0m\u001b[0;34m,\u001b[0m \u001b[0mscreen\u001b[0m\u001b[0;34m,\u001b[0m \u001b[0mstacktrace\u001b[0m\u001b[0;34m,\u001b[0m \u001b[0malert_text\u001b[0m\u001b[0;34m)\u001b[0m\u001b[0;34m\u001b[0m\u001b[0;34m\u001b[0m\u001b[0m\n\u001b[0;32m--> 242\u001b[0;31m         \u001b[0;32mraise\u001b[0m \u001b[0mexception_class\u001b[0m\u001b[0;34m(\u001b[0m\u001b[0mmessage\u001b[0m\u001b[0;34m,\u001b[0m \u001b[0mscreen\u001b[0m\u001b[0;34m,\u001b[0m \u001b[0mstacktrace\u001b[0m\u001b[0;34m)\u001b[0m\u001b[0;34m\u001b[0m\u001b[0;34m\u001b[0m\u001b[0m\n\u001b[0m\u001b[1;32m    243\u001b[0m \u001b[0;34m\u001b[0m\u001b[0m\n\u001b[1;32m    244\u001b[0m     \u001b[0;32mdef\u001b[0m \u001b[0m_value_or_default\u001b[0m\u001b[0;34m(\u001b[0m\u001b[0mself\u001b[0m\u001b[0;34m,\u001b[0m \u001b[0mobj\u001b[0m\u001b[0;34m,\u001b[0m \u001b[0mkey\u001b[0m\u001b[0;34m,\u001b[0m \u001b[0mdefault\u001b[0m\u001b[0;34m)\u001b[0m\u001b[0;34m:\u001b[0m\u001b[0;34m\u001b[0m\u001b[0;34m\u001b[0m\u001b[0m\n",
      "\u001b[0;31mNoSuchElementException\u001b[0m: Message: no such element: Unable to locate element: {\"method\":\"xpath\",\"selector\":\"//*[@id=\"exportTypeName\"]\"}\n  (Session info: chrome=93.0.4577.63)\n"
     ]
    }
   ],
   "source": [
    "for i in range(page_num):\n",
    "    page = 10 * i + 1\n",
    "    print(col, page)\n",
    "    ## 指定page\n",
    "    if page > 1:\n",
    "        mm = '//*[@id=\"summary_navigation\"]/nav/table/tbody/tr/td[2]/input'\n",
    "        \n",
    "        \n",
    "        driver.find_element_by_xpath(mm).clear()\n",
    "        time.sleep(1)\n",
    "        #try:\n",
    "        driver.find_element_by_xpath(mm).send_keys(str(page) + Keys.ENTER)\n",
    "        #WebDriverWait(driver, 20).until(lambda x:x.find_element_by_xpath('//*[@id=\"exportTypeName\"]'))  # 总数\n",
    "        #driver.execute_script(\"window.stop();\") \n",
    "        time.sleep(1)\n",
    "        #except:\n",
    "        #    driver.execute_script(\"window.stop()\")\n",
    "\n",
    "    ## 准备下载\n",
    "    # 下载按钮， 1-500条，下载\n",
    "\n",
    "    ## 导出至excel， 记录1-500， 记录内容选择全部\n",
    "    mm_list = ['//*[@id=\"exportTypeName\"]', \n",
    "            #    '//*[@id=\"saveToMenu\"]/li[3]/a',\n",
    "               '//*[@id=\"numberOfRecordsRange\"]',\n",
    "               '//*[@id=\"exportButton\"]']\n",
    "\n",
    "\n",
    "\n",
    "    for i in range(len(mm_list)):\n",
    "        mm = mm_list[i]\n",
    "        print(mm)\n",
    "        time.sleep(1)\n",
    "        #try:\n",
    "        driver.find_element_by_xpath(mm).click() \n",
    "        #except:\n",
    "        #    driver.execute_script(\"window.stop()\")"
   ]
  },
  {
   "cell_type": "code",
   "execution_count": 72,
   "metadata": {},
   "outputs": [
    {
     "name": "stdout",
     "output_type": "stream",
     "text": [
      "20\n"
     ]
    }
   ],
   "source": [
    "    ## 文件保存\n",
    "\n",
    "## 一个学校的批量跑完后移动文件\n",
    "out_dir = '/Users/zhenzhenzheng/Downloads/'\n",
    "os.system('mv ' + out_dir + 'savedrecs* ' + save_dir + '/')"
   ]
  },
  {
   "cell_type": "code",
   "execution_count": 41,
   "metadata": {},
   "outputs": [
    {
     "data": {
      "text/plain": [
       "selenium.webdriver.support.wait.WebDriverWait"
      ]
     },
     "execution_count": 41,
     "metadata": {},
     "output_type": "execute_result"
    }
   ],
   "source": [
    "WebDriverWait"
   ]
  },
  {
   "cell_type": "code",
   "execution_count": null,
   "metadata": {},
   "outputs": [],
   "source": [
    "   ## 文件保存\n",
    "\n",
    "## 一个学校的批量跑完后移动文件\n",
    "out_dir = '/Users/zhenzhenzheng/Downloads/'\n",
    "os.system('mv ' + out_dir + 'savedrecs* ' + save_dir)"
   ]
  },
  {
   "cell_type": "code",
   "execution_count": 59,
   "metadata": {},
   "outputs": [],
   "source": [
    "driver.find_element_by_xpath('//*[@id=\"exportTypeName\"]').click()   # 下载excel\n",
    "driver.find_element_by_xpath('//*[@id=\"numberOfRecordsRange\"]').click()   # 下载excel\n",
    "\n"
   ]
  },
  {
   "cell_type": "code",
   "execution_count": 63,
   "metadata": {},
   "outputs": [],
   "source": [
    "driver.find_element_by_xpath('//*[@id=\"page\"]/div[11]/div[2]/form/div[2]/div[2]/div/span/span[1]/span/span[2]').click()   # 下载excel\n",
    "\n"
   ]
  },
  {
   "cell_type": "code",
   "execution_count": null,
   "metadata": {},
   "outputs": [],
   "source": []
  }
 ],
 "metadata": {
  "interpreter": {
   "hash": "71495df0c623ae3f19df20b25015f682ed6f1188b96ab73377a7b8a091326f75"
  },
  "kernelspec": {
   "display_name": "Python 3 (ipykernel)",
   "language": "python",
   "name": "python3"
  },
  "language_info": {
   "codemirror_mode": {
    "name": "ipython",
    "version": 3
   },
   "file_extension": ".py",
   "mimetype": "text/x-python",
   "name": "python",
   "nbconvert_exporter": "python",
   "pygments_lexer": "ipython3",
   "version": "3.8.5"
  },
  "toc-showtags": true
 },
 "nbformat": 4,
 "nbformat_minor": 4
}
